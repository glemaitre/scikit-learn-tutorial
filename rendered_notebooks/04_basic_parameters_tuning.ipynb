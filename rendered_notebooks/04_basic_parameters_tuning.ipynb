{
 "cells": [
  {
   "cell_type": "markdown",
   "metadata": {},
   "source": [
    "# Introduction to scikit-learn: basic model hyper-parameters tuning\n",
    "\n",
    "The process to learn a predictive model is driven by a set of\n",
    "internal parameters and a set of training data. These internal\n",
    "parameters are called hyper-parameters and are specific for each\n",
    "family of models. In addition, a set of parameters are optimal for\n",
    "a specific dataset and thus they need to be optimized.\n",
    "\n",
    "This notebook shows:\n",
    "* the influence of changing model parameters;\n",
    "* how to tune these hyper-parameters;\n",
    "* how to evaluate the model performance together with hyper-\n",
    "  parameters tuning."
   ]
  },
  {
   "cell_type": "code",
   "execution_count": 1,
   "metadata": {},
   "outputs": [],
   "source": [
    "import pandas as pd\n",
    "\n",
    "df = pd.read_csv(\n",
    "    \"https://www.openml.org/data/get_csv/1595261/adult-census.csv\")\n",
    "# Or use the local copy: df = pd.read_csv('../datasets/adult-\n",
    "# census.csv')"
   ]
  },
  {
   "cell_type": "code",
   "execution_count": 2,
   "metadata": {},
   "outputs": [
    {
     "data": {
      "text/plain": [
       "array([' <=50K', ' <=50K', ' >50K', ..., ' <=50K', ' <=50K', ' >50K'],\n",
       "      dtype=object)"
      ]
     },
     "execution_count": 2,
     "metadata": {},
     "output_type": "execute_result"
    }
   ],
   "source": [
    "target_name = \"class\"\n",
    "target = df[target_name].to_numpy()\n",
    "target"
   ]
  },
  {
   "cell_type": "code",
   "execution_count": 3,
   "metadata": {},
   "outputs": [
    {
     "data": {
      "text/html": [
       "<div>\n",
       "<style scoped>\n",
       "    .dataframe tbody tr th:only-of-type {\n",
       "        vertical-align: middle;\n",
       "    }\n",
       "\n",
       "    .dataframe tbody tr th {\n",
       "        vertical-align: top;\n",
       "    }\n",
       "\n",
       "    .dataframe thead th {\n",
       "        text-align: right;\n",
       "    }\n",
       "</style>\n",
       "<table border=\"1\" class=\"dataframe\">\n",
       "  <thead>\n",
       "    <tr style=\"text-align: right;\">\n",
       "      <th></th>\n",
       "      <th>age</th>\n",
       "      <th>workclass</th>\n",
       "      <th>education</th>\n",
       "      <th>education-num</th>\n",
       "      <th>marital-status</th>\n",
       "      <th>occupation</th>\n",
       "      <th>relationship</th>\n",
       "      <th>race</th>\n",
       "      <th>sex</th>\n",
       "      <th>capital-gain</th>\n",
       "      <th>capital-loss</th>\n",
       "      <th>hours-per-week</th>\n",
       "      <th>native-country</th>\n",
       "    </tr>\n",
       "  </thead>\n",
       "  <tbody>\n",
       "    <tr>\n",
       "      <th>0</th>\n",
       "      <td>25</td>\n",
       "      <td>Private</td>\n",
       "      <td>11th</td>\n",
       "      <td>7</td>\n",
       "      <td>Never-married</td>\n",
       "      <td>Machine-op-inspct</td>\n",
       "      <td>Own-child</td>\n",
       "      <td>Black</td>\n",
       "      <td>Male</td>\n",
       "      <td>0</td>\n",
       "      <td>0</td>\n",
       "      <td>40</td>\n",
       "      <td>United-States</td>\n",
       "    </tr>\n",
       "    <tr>\n",
       "      <th>1</th>\n",
       "      <td>38</td>\n",
       "      <td>Private</td>\n",
       "      <td>HS-grad</td>\n",
       "      <td>9</td>\n",
       "      <td>Married-civ-spouse</td>\n",
       "      <td>Farming-fishing</td>\n",
       "      <td>Husband</td>\n",
       "      <td>White</td>\n",
       "      <td>Male</td>\n",
       "      <td>0</td>\n",
       "      <td>0</td>\n",
       "      <td>50</td>\n",
       "      <td>United-States</td>\n",
       "    </tr>\n",
       "    <tr>\n",
       "      <th>2</th>\n",
       "      <td>28</td>\n",
       "      <td>Local-gov</td>\n",
       "      <td>Assoc-acdm</td>\n",
       "      <td>12</td>\n",
       "      <td>Married-civ-spouse</td>\n",
       "      <td>Protective-serv</td>\n",
       "      <td>Husband</td>\n",
       "      <td>White</td>\n",
       "      <td>Male</td>\n",
       "      <td>0</td>\n",
       "      <td>0</td>\n",
       "      <td>40</td>\n",
       "      <td>United-States</td>\n",
       "    </tr>\n",
       "    <tr>\n",
       "      <th>3</th>\n",
       "      <td>44</td>\n",
       "      <td>Private</td>\n",
       "      <td>Some-college</td>\n",
       "      <td>10</td>\n",
       "      <td>Married-civ-spouse</td>\n",
       "      <td>Machine-op-inspct</td>\n",
       "      <td>Husband</td>\n",
       "      <td>Black</td>\n",
       "      <td>Male</td>\n",
       "      <td>7688</td>\n",
       "      <td>0</td>\n",
       "      <td>40</td>\n",
       "      <td>United-States</td>\n",
       "    </tr>\n",
       "    <tr>\n",
       "      <th>4</th>\n",
       "      <td>18</td>\n",
       "      <td>?</td>\n",
       "      <td>Some-college</td>\n",
       "      <td>10</td>\n",
       "      <td>Never-married</td>\n",
       "      <td>?</td>\n",
       "      <td>Own-child</td>\n",
       "      <td>White</td>\n",
       "      <td>Female</td>\n",
       "      <td>0</td>\n",
       "      <td>0</td>\n",
       "      <td>30</td>\n",
       "      <td>United-States</td>\n",
       "    </tr>\n",
       "  </tbody>\n",
       "</table>\n",
       "</div>"
      ],
      "text/plain": [
       "   age   workclass      education  education-num       marital-status  \\\n",
       "0   25     Private           11th              7        Never-married   \n",
       "1   38     Private        HS-grad              9   Married-civ-spouse   \n",
       "2   28   Local-gov     Assoc-acdm             12   Married-civ-spouse   \n",
       "3   44     Private   Some-college             10   Married-civ-spouse   \n",
       "4   18           ?   Some-college             10        Never-married   \n",
       "\n",
       "           occupation relationship    race      sex  capital-gain  \\\n",
       "0   Machine-op-inspct    Own-child   Black     Male             0   \n",
       "1     Farming-fishing      Husband   White     Male             0   \n",
       "2     Protective-serv      Husband   White     Male             0   \n",
       "3   Machine-op-inspct      Husband   Black     Male          7688   \n",
       "4                   ?    Own-child   White   Female             0   \n",
       "\n",
       "   capital-loss  hours-per-week  native-country  \n",
       "0             0              40   United-States  \n",
       "1             0              50   United-States  \n",
       "2             0              40   United-States  \n",
       "3             0              40   United-States  \n",
       "4             0              30   United-States  "
      ]
     },
     "execution_count": 3,
     "metadata": {},
     "output_type": "execute_result"
    }
   ],
   "source": [
    "data = df.drop(columns=[target_name, \"fnlwgt\"])\n",
    "data.head()"
   ]
  },
  {
   "cell_type": "markdown",
   "metadata": {},
   "source": [
    "Once the dataset is loaded, we split it into a training and\n",
    "testing sets."
   ]
  },
  {
   "cell_type": "code",
   "execution_count": 4,
   "metadata": {},
   "outputs": [],
   "source": [
    "from sklearn.model_selection import train_test_split\n",
    "\n",
    "df_train, df_test, target_train, target_test = train_test_split(\n",
    "    data, target, random_state=42)"
   ]
  },
  {
   "cell_type": "markdown",
   "metadata": {},
   "source": [
    "Then, we define the preprocessing pipeline to transform\n",
    "differently the numerical and categorical data."
   ]
  },
  {
   "cell_type": "code",
   "execution_count": 5,
   "metadata": {},
   "outputs": [],
   "source": [
    "from sklearn.compose import ColumnTransformer\n",
    "from sklearn.preprocessing import OrdinalEncoder\n",
    "from sklearn.preprocessing import OneHotEncoder\n",
    "from sklearn.preprocessing import StandardScaler\n",
    "\n",
    "binary_encoding_columns = ['sex']\n",
    "one_hot_encoding_columns = [\n",
    "    'workclass', 'education', 'marital-status', 'occupation',\n",
    "    'relationship', 'race', 'native-country']\n",
    "scaling_columns = [\n",
    "    'age', 'capital-gain', 'capital-loss', 'hours-per-week',\n",
    "    'education-num']\n",
    "\n",
    "preprocessor = ColumnTransformer([\n",
    "    ('binary-encoder', OrdinalEncoder(), binary_encoding_columns),\n",
    "    ('one-hot-encoder', OneHotEncoder(handle_unknown='ignore'),\n",
    "     one_hot_encoding_columns),\n",
    "    ('standard-scaler', StandardScaler(), scaling_columns)])"
   ]
  },
  {
   "cell_type": "markdown",
   "metadata": {},
   "source": [
    "Finally, we use a linear classifier (i.e. logistic regression) to\n",
    "predict whether or not a person earn more than 50,000 dollars a\n",
    "year."
   ]
  },
  {
   "cell_type": "code",
   "execution_count": 6,
   "metadata": {},
   "outputs": [
    {
     "name": "stdout",
     "output_type": "stream",
     "text": [
      "The accuracy score using a Pipeline is 0.86\n"
     ]
    }
   ],
   "source": [
    "from sklearn.linear_model import LogisticRegression\n",
    "from sklearn.pipeline import make_pipeline\n",
    "\n",
    "model = make_pipeline(\n",
    "    preprocessor, LogisticRegression(max_iter=1000, solver='lbfgs'))\n",
    "model.fit(df_train, target_train)\n",
    "print(f\"The accuracy score using a {model.__class__.__name__} is \"\n",
    "      f\"{model.score(df_test, target_test):.2f}\")"
   ]
  },
  {
   "cell_type": "markdown",
   "metadata": {},
   "source": [
    "## The issue of finding the best model parameters\n",
    "\n",
    "In the previous example, we created a `LogisticRegression`\n",
    "classifier using the default parameters by omitting setting\n",
    "explicitly these parameters.\n",
    "\n",
    "For this classifier, the parameter `C` governes the penalty; in\n",
    "other words, how much our model should \"trust\" (or fit) the\n",
    "training data.\n",
    "\n",
    "Therefore, the default value of `C` is never certified to give\n",
    "the best performing model.\n",
    "\n",
    "We can make a quick experiment by changing the value of `C` and\n",
    "see the impact of this parameter on the model performance."
   ]
  },
  {
   "cell_type": "code",
   "execution_count": 7,
   "metadata": {},
   "outputs": [
    {
     "name": "stdout",
     "output_type": "stream",
     "text": [
      "The accuracy score using a Pipeline is 0.86 with C=1\n"
     ]
    }
   ],
   "source": [
    "C = 1\n",
    "model = make_pipeline(\n",
    "    preprocessor,\n",
    "    LogisticRegression(C=C, max_iter=1000, solver='lbfgs'))\n",
    "model.fit(df_train, target_train)\n",
    "print(f\"The accuracy score using a {model.__class__.__name__} is \"\n",
    "      f\"{model.score(df_test, target_test):.2f} with C={C}\")"
   ]
  },
  {
   "cell_type": "code",
   "execution_count": 8,
   "metadata": {},
   "outputs": [
    {
     "name": "stdout",
     "output_type": "stream",
     "text": [
      "The accuracy score using a Pipeline is 0.77 with C=1e-05\n"
     ]
    }
   ],
   "source": [
    "C = 1e-5\n",
    "model = make_pipeline(\n",
    "    preprocessor,\n",
    "    LogisticRegression(C=C, max_iter=1000, solver='lbfgs'))\n",
    "model.fit(df_train, target_train)\n",
    "print(f\"The accuracy score using a {model.__class__.__name__} is \"\n",
    "      f\"{model.score(df_test, target_test):.2f} with C={C}\")"
   ]
  },
  {
   "cell_type": "markdown",
   "metadata": {},
   "source": [
    "## Finding the best model hyper-parameters via exhaustive parameters search\n",
    "\n",
    "We see that the parameter `C` as a significative impact on the\n",
    "model performance. This parameter should be tuned to get the best\n",
    "cross-validation score, so as to avoid over-fitting problems.\n",
    "\n",
    "In short, we will set the parameter, train our model on some\n",
    "data, and evaluate the model performance on some left out data.\n",
    "Ideally, we will select the parameter leading to the optimal\n",
    "performance on the testing set. Scikit- learn provides a\n",
    "`GridSearchCV` estimator which will handle the cross- validation\n",
    "and hyper-parameter search for us."
   ]
  },
  {
   "cell_type": "code",
   "execution_count": 9,
   "metadata": {},
   "outputs": [],
   "source": [
    "from sklearn.model_selection import GridSearchCV\n",
    "\n",
    "model = make_pipeline(\n",
    "    preprocessor, LogisticRegression(max_iter=1000, solver='lbfgs'))"
   ]
  },
  {
   "cell_type": "markdown",
   "metadata": {},
   "source": [
    "We will see that we need to provide the name of the parameter to\n",
    "be set. Thus, we can use the method `get_params()` to have the list\n",
    "of the parameters of the model which can set during the grid-\n",
    "search."
   ]
  },
  {
   "cell_type": "code",
   "execution_count": 10,
   "metadata": {},
   "outputs": [
    {
     "name": "stdout",
     "output_type": "stream",
     "text": [
      "The hyper-parameters are for a logistic regression model are:\n",
      "C\n",
      "class_weight\n",
      "dual\n",
      "fit_intercept\n",
      "intercept_scaling\n",
      "l1_ratio\n",
      "max_iter\n",
      "multi_class\n",
      "n_jobs\n",
      "penalty\n",
      "random_state\n",
      "solver\n",
      "tol\n",
      "verbose\n",
      "warm_start\n"
     ]
    }
   ],
   "source": [
    "print(\n",
    "    \"The hyper-parameters are for a logistic regression model are:\")\n",
    "for param_name in LogisticRegression().get_params().keys():\n",
    "    print(param_name)"
   ]
  },
  {
   "cell_type": "code",
   "execution_count": 11,
   "metadata": {},
   "outputs": [
    {
     "name": "stdout",
     "output_type": "stream",
     "text": [
      "The hyper-parameters are for the full-pipeline are:\n",
      "memory\n",
      "steps\n",
      "verbose\n",
      "columntransformer\n",
      "logisticregression\n",
      "columntransformer__n_jobs\n",
      "columntransformer__remainder\n",
      "columntransformer__sparse_threshold\n",
      "columntransformer__transformer_weights\n",
      "columntransformer__transformers\n",
      "columntransformer__verbose\n",
      "columntransformer__binary-encoder\n",
      "columntransformer__one-hot-encoder\n",
      "columntransformer__standard-scaler\n",
      "columntransformer__binary-encoder__categories\n",
      "columntransformer__binary-encoder__dtype\n",
      "columntransformer__one-hot-encoder__categories\n",
      "columntransformer__one-hot-encoder__drop\n",
      "columntransformer__one-hot-encoder__dtype\n",
      "columntransformer__one-hot-encoder__handle_unknown\n",
      "columntransformer__one-hot-encoder__sparse\n",
      "columntransformer__standard-scaler__copy\n",
      "columntransformer__standard-scaler__with_mean\n",
      "columntransformer__standard-scaler__with_std\n",
      "logisticregression__C\n",
      "logisticregression__class_weight\n",
      "logisticregression__dual\n",
      "logisticregression__fit_intercept\n",
      "logisticregression__intercept_scaling\n",
      "logisticregression__l1_ratio\n",
      "logisticregression__max_iter\n",
      "logisticregression__multi_class\n",
      "logisticregression__n_jobs\n",
      "logisticregression__penalty\n",
      "logisticregression__random_state\n",
      "logisticregression__solver\n",
      "logisticregression__tol\n",
      "logisticregression__verbose\n",
      "logisticregression__warm_start\n"
     ]
    }
   ],
   "source": [
    "print(\"The hyper-parameters are for the full-pipeline are:\")\n",
    "for param_name in model.get_params().keys():\n",
    "    print(param_name)"
   ]
  },
  {
   "cell_type": "markdown",
   "metadata": {},
   "source": [
    "The parameter `'logisticregression__C'` is the parameter for\n",
    "which we would like different values. Let see how to use the\n",
    "`GridSearchCV` estimator for doing such search."
   ]
  },
  {
   "cell_type": "code",
   "execution_count": 12,
   "metadata": {},
   "outputs": [
    {
     "name": "stdout",
     "output_type": "stream",
     "text": [
      "The accuracy score using a GridSearchCV is 0.86 in 22.427 seconds\n"
     ]
    }
   ],
   "source": [
    "import time\n",
    "import numpy as np\n",
    "\n",
    "param_grid = {'logisticregression__C': (0.1, 1.0, 10.0)}\n",
    "model_grid_search = GridSearchCV(model, param_grid=param_grid,\n",
    "                                 n_jobs=4, cv=5)\n",
    "start = time.time()\n",
    "model_grid_search.fit(df_train, target_train)\n",
    "elapsed_time = time.time() - start\n",
    "print(\n",
    "    f\"The accuracy score using a {model_grid_search.__class__.__name__} is \"\n",
    "    f\"{model_grid_search.score(df_test, target_test):.2f} in \"\n",
    "    f\"{elapsed_time:.3f} seconds\")"
   ]
  },
  {
   "cell_type": "markdown",
   "metadata": {},
   "source": [
    "The `GridSearchCV` estimator takes a `param_grid` parameter which\n",
    "defines all possible parameters combination. Once the grid-search\n",
    "fitted, it can be used as any other predictor by calling `predict`\n",
    "and `predict_proba`. Internally, it will use the model with the\n",
    "best parameters found during `fit`. You can know about these\n",
    "parameters by looking at the `best_params_` attribute."
   ]
  },
  {
   "cell_type": "code",
   "execution_count": 13,
   "metadata": {},
   "outputs": [
    {
     "name": "stdout",
     "output_type": "stream",
     "text": [
      "The best set of parameters is: {'logisticregression__C': 1.0}\n"
     ]
    }
   ],
   "source": [
    "print(\n",
    "    f\"The best set of parameters is: {model_grid_search.best_params_}\"\n",
    ")"
   ]
  },
  {
   "cell_type": "markdown",
   "metadata": {},
   "source": [
    "With the `GridSearchCV` estimator, the parameters need to be\n",
    "specified explicitely. Instead, one could randomly generate\n",
    "(following a specific distribution) the parameter candidates. The\n",
    "`RandomSearchCV` allows for such stochastic search. It is used\n",
    "similarly to the `GridSearchCV` but the sampling distributions need\n",
    "to be specified instead of the parameter values."
   ]
  },
  {
   "cell_type": "code",
   "execution_count": 14,
   "metadata": {},
   "outputs": [
    {
     "name": "stdout",
     "output_type": "stream",
     "text": [
      "The accuracy score using a RandomizedSearchCV is 0.86\n",
      "The best set of parameters is: {'logisticregression__C': 144.25442092795817}\n"
     ]
    }
   ],
   "source": [
    "from scipy.stats import uniform\n",
    "from sklearn.model_selection import RandomizedSearchCV\n",
    "\n",
    "param_distributions = {\n",
    "    'logisticregression__C': uniform(loc=50, scale=100)}\n",
    "model_grid_search = RandomizedSearchCV(\n",
    "    model, param_distributions=param_distributions, n_iter=3,\n",
    "    n_jobs=4, cv=5)\n",
    "model_grid_search.fit(df_train, target_train)\n",
    "print(\n",
    "    f\"The accuracy score using a {model_grid_search.__class__.__name__} is \"\n",
    "    f\"{model_grid_search.score(df_test, target_test):.2f}\")\n",
    "print(\n",
    "    f\"The best set of parameters is: {model_grid_search.best_params_}\"\n",
    ")"
   ]
  },
  {
   "cell_type": "markdown",
   "metadata": {},
   "source": [
    "## Notes on search efficiency\n",
    "\n",
    "Be aware that sometimes, scikit-learn provides some `EstimatorCV`\n",
    "classes which will perform internally the cross-validation in such\n",
    "way that it will more computationally efficient. We can give the\n",
    "example of the `LogisticRegressionCV` which can be used to find the\n",
    "best `C` in a more efficient way than what we previously did with\n",
    "the `GridSearchCV`."
   ]
  },
  {
   "cell_type": "code",
   "execution_count": 15,
   "metadata": {},
   "outputs": [
    {
     "name": "stdout",
     "output_type": "stream",
     "text": [
      "Time elapsed to train LogisticRegressionCV: 9.767 seconds\n"
     ]
    }
   ],
   "source": [
    "from sklearn.linear_model import LogisticRegressionCV\n",
    "\n",
    "# define the different Cs to try out\n",
    "param_grid = {\"C\": (0.1, 1.0, 10.0)}\n",
    "\n",
    "model = make_pipeline(\n",
    "    preprocessor,\n",
    "    LogisticRegressionCV(Cs=param_grid['C'], max_iter=1000,\n",
    "                         solver='lbfgs', n_jobs=4, cv=5))\n",
    "start = time.time()\n",
    "model.fit(df_train, target_train)\n",
    "elapsed_time = time.time() - start\n",
    "print(f\"Time elapsed to train LogisticRegressionCV: \"\n",
    "      f\"{elapsed_time:.3f} seconds\")"
   ]
  },
  {
   "cell_type": "markdown",
   "metadata": {},
   "source": [
    "The `fit` time for the `CV` version of `LogisticRegression` give\n",
    "a speed-up x2. This speed-up is provided by re-using the values of\n",
    "coefficients to warm- start the estimator for the different `C`\n",
    "values."
   ]
  },
  {
   "cell_type": "markdown",
   "metadata": {},
   "source": [
    "## Exercises:\n",
    "\n",
    "Build a machine learning pipeline:\n",
    "* preprocess the categorical columns using an `OrdinalEncoder` and let\n",
    "  the numerical columns as they are.\n",
    "* use an `HistGradientBoostingClassifier` as a predictive model.\n",
    "Make an hyper-parameters search using `RandomizedSearchCV`\n",
    "and tuning the parameters:\n",
    "* `learning_rate` with values ranging from 0.001 to 0.5. You can use an\n",
    "  exponential distribution to sample the possible values.\n",
    "* `l2_regularization` with values ranging from 0 to 0.5. You can use a\n",
    "  uniform distribution.\n",
    "* `max_leaf_nodes` with values ranging from 5 to 30. The values should\n",
    "  be integer following a uniform distribution.\n",
    "* `min_samples_leaf` with values ranging from 5 to 30. The values\n",
    "  should be integer following a uniform distribution.\n",
    "\n",
    "In case you have issues of with unknown categories, try to\n",
    "precompute the list of possible categories ahead of time and pass\n",
    "it explicitly to the constructor of the encoder:\n",
    "\n",
    "```python\n",
    "categories = [data[column].unique() for column in data[categorical_columns]]\n",
    "OrdinalEncoder(categories=categories)\n",
    "```"
   ]
  },
  {
   "cell_type": "markdown",
   "metadata": {},
   "source": [
    "## Combining evaluation and hyper-parameters search\n",
    "\n",
    "Cross-validation was used for searching the best model\n",
    "parameters. We previously evaluate model performance through cross-\n",
    "validation as well. If we would like to combine both aspects, we\n",
    "need to perform a \"nested\" cross- validation. The \"outer\" cross-\n",
    "validation is applied to assess the model while the \"inner\" cross-\n",
    "validation set the hyper-parameters of the model on the data set\n",
    "provided by the \"outer\" cross-validation. In practice, it is\n",
    "equivalent of including, `GridSearchCV`, `RandomSearchCV`, or any\n",
    "`EstimatorCV` in a `cross_val_score` or `cross_validate` function\n",
    "call."
   ]
  },
  {
   "cell_type": "code",
   "execution_count": 16,
   "metadata": {},
   "outputs": [
    {
     "name": "stdout",
     "output_type": "stream",
     "text": [
      "The accuracy score is: 0.85 +- 0.00\n",
      "The different scores obtained are: \n",
      "[0.85136657 0.84962637 0.84797297 0.85298935 0.85503686]\n"
     ]
    }
   ],
   "source": [
    "from sklearn.model_selection import cross_val_score\n",
    "\n",
    "model = make_pipeline(\n",
    "    preprocessor,\n",
    "    LogisticRegressionCV(max_iter=1000, solver='lbfgs', cv=5))\n",
    "score = cross_val_score(model, data, target, n_jobs=4, cv=5)\n",
    "print(\n",
    "    f\"The accuracy score is: {score.mean():.2f} +- {score.std():.2f}\"\n",
    ")\n",
    "print(f\"The different scores obtained are: \\n{score}\")"
   ]
  },
  {
   "cell_type": "markdown",
   "metadata": {},
   "source": [
    "Be aware that such training might involve a variation of the\n",
    "hyper- parameters of the model. When analyzing such model, you\n",
    "should not only look at the overall model performance but look at\n",
    "the hyper-parameters variations as well."
   ]
  }
 ],
 "metadata": {
  "jupytext": {
   "formats": "python_scripts//py:percent,notebooks//ipynb",
   "main_language": "python"
  },
  "language_info": {
   "codemirror_mode": {
    "name": "ipython",
    "version": 3
   },
   "file_extension": ".py",
   "mimetype": "text/x-python",
   "name": "python",
   "nbconvert_exporter": "python",
   "pygments_lexer": "ipython3",
   "version": "3.7.4"
  }
 },
 "nbformat": 4,
 "nbformat_minor": 2
}
