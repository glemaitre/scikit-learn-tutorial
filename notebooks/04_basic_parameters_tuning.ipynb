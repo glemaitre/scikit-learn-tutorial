{
 "cells": [
  {
   "cell_type": "markdown",
   "metadata": {},
   "source": [
    "# Introduction to scikit-learn: basic model hyper-parameters tuning\n",
    "\n",
    "The process to learn a predictive model is driven by a set of\n",
    "internal parameters and a set of training data. These internal\n",
    "parameters are called hyper-parameters and are specific for each\n",
    "family of models. In addition, a set of parameters are optimal for\n",
    "a specific dataset and thus they need to be optimized.\n",
    "\n",
    "This notebook shows:\n",
    "* the influence of changing model parameters;\n",
    "* how to tune these hyper-parameters;\n",
    "* how to evaluate the model performance together with hyper-\n",
    "  parameters tuning."
   ]
  },
  {
   "cell_type": "code",
   "execution_count": null,
   "metadata": {},
   "outputs": [],
   "source": [
    "import pandas as pd\n",
    "\n",
    "df = pd.read_csv(\n",
    "    \"https://www.openml.org/data/get_csv/1595261/adult-census.csv\")\n",
    "# Or use the local copy: df = pd.read_csv('../datasets/adult-\n",
    "# census.csv')"
   ]
  },
  {
   "cell_type": "code",
   "execution_count": null,
   "metadata": {},
   "outputs": [],
   "source": [
    "target_name = \"class\"\n",
    "target = df[target_name].to_numpy()\n",
    "target"
   ]
  },
  {
   "cell_type": "code",
   "execution_count": null,
   "metadata": {},
   "outputs": [],
   "source": [
    "data = df.drop(columns=[target_name, \"fnlwgt\"])\n",
    "data.head()"
   ]
  },
  {
   "cell_type": "markdown",
   "metadata": {},
   "source": [
    "Once the dataset is loaded, we split it into a training and\n",
    "testing sets."
   ]
  },
  {
   "cell_type": "code",
   "execution_count": null,
   "metadata": {},
   "outputs": [],
   "source": [
    "from sklearn.model_selection import train_test_split\n",
    "\n",
    "df_train, df_test, target_train, target_test = train_test_split(\n",
    "    data, target, random_state=42)"
   ]
  },
  {
   "cell_type": "markdown",
   "metadata": {},
   "source": [
    "Then, we define the preprocessing pipeline to transform\n",
    "differently the numerical and categorical data."
   ]
  },
  {
   "cell_type": "code",
   "execution_count": null,
   "metadata": {},
   "outputs": [],
   "source": [
    "from sklearn.compose import ColumnTransformer\n",
    "from sklearn.preprocessing import OrdinalEncoder\n",
    "from sklearn.preprocessing import OneHotEncoder\n",
    "from sklearn.preprocessing import StandardScaler\n",
    "\n",
    "binary_encoding_columns = ['sex']\n",
    "one_hot_encoding_columns = [\n",
    "    'workclass', 'education', 'marital-status', 'occupation',\n",
    "    'relationship', 'race', 'native-country']\n",
    "scaling_columns = [\n",
    "    'age', 'capital-gain', 'capital-loss', 'hours-per-week',\n",
    "    'education-num']\n",
    "\n",
    "preprocessor = ColumnTransformer([\n",
    "    ('binary-encoder', OrdinalEncoder(), binary_encoding_columns),\n",
    "    ('one-hot-encoder', OneHotEncoder(handle_unknown='ignore'),\n",
    "     one_hot_encoding_columns),\n",
    "    ('standard-scaler', StandardScaler(), scaling_columns)])"
   ]
  },
  {
   "cell_type": "markdown",
   "metadata": {},
   "source": [
    "Finally, we use a linear classifier (i.e. logistic regression) to\n",
    "predict whether or not a person earn more than 50,000 dollars a\n",
    "year."
   ]
  },
  {
   "cell_type": "code",
   "execution_count": null,
   "metadata": {},
   "outputs": [],
   "source": [
    "from sklearn.linear_model import LogisticRegression\n",
    "from sklearn.pipeline import make_pipeline\n",
    "\n",
    "model = make_pipeline(\n",
    "    preprocessor, LogisticRegression(max_iter=1000, solver='lbfgs'))\n",
    "model.fit(df_train, target_train)\n",
    "print(f\"The accuracy score using a {model.__class__.__name__} is \"\n",
    "      f\"{model.score(df_test, target_test):.2f}\")"
   ]
  },
  {
   "cell_type": "markdown",
   "metadata": {},
   "source": [
    "## The issue of finding the best model parameters\n",
    "\n",
    "In the previous example, we created a `LogisticRegression`\n",
    "classifier using the default parameters by omitting setting\n",
    "explicitly these parameters.\n",
    "\n",
    "For this classifier, the parameter `C` governes the penalty; in\n",
    "other words, how much our model should \"trust\" (or fit) the\n",
    "training data.\n",
    "\n",
    "Therefore, the default value of `C` is never certified to give\n",
    "the best performing model.\n",
    "\n",
    "We can make a quick experiment by changing the value of `C` and\n",
    "see the impact of this parameter on the model performance."
   ]
  },
  {
   "cell_type": "code",
   "execution_count": null,
   "metadata": {},
   "outputs": [],
   "source": [
    "C = 1\n",
    "model = make_pipeline(\n",
    "    preprocessor,\n",
    "    LogisticRegression(C=C, max_iter=1000, solver='lbfgs'))\n",
    "model.fit(df_train, target_train)\n",
    "print(f\"The accuracy score using a {model.__class__.__name__} is \"\n",
    "      f\"{model.score(df_test, target_test):.2f} with C={C}\")"
   ]
  },
  {
   "cell_type": "code",
   "execution_count": null,
   "metadata": {},
   "outputs": [],
   "source": [
    "C = 1e-5\n",
    "model = make_pipeline(\n",
    "    preprocessor,\n",
    "    LogisticRegression(C=C, max_iter=1000, solver='lbfgs'))\n",
    "model.fit(df_train, target_train)\n",
    "print(f\"The accuracy score using a {model.__class__.__name__} is \"\n",
    "      f\"{model.score(df_test, target_test):.2f} with C={C}\")"
   ]
  },
  {
   "cell_type": "markdown",
   "metadata": {},
   "source": [
    "## Finding the best model hyper-parameters via exhaustive parameters search\n",
    "\n",
    "We see that the parameter `C` as a significative impact on the\n",
    "model performance. This parameter should be tuned to get the best\n",
    "cross-validation score, so as to avoid over-fitting problems.\n",
    "\n",
    "In short, we will set the parameter, train our model on some\n",
    "data, and evaluate the model performance on some left out data.\n",
    "Ideally, we will select the parameter leading to the optimal\n",
    "performance on the testing set. Scikit- learn provides a\n",
    "`GridSearchCV` estimator which will handle the cross- validation\n",
    "and hyper-parameter search for us."
   ]
  },
  {
   "cell_type": "code",
   "execution_count": null,
   "metadata": {},
   "outputs": [],
   "source": [
    "from sklearn.model_selection import GridSearchCV\n",
    "\n",
    "model = make_pipeline(\n",
    "    preprocessor, LogisticRegression(max_iter=1000, solver='lbfgs'))"
   ]
  },
  {
   "cell_type": "markdown",
   "metadata": {},
   "source": [
    "We will see that we need to provide the name of the parameter to\n",
    "be set. Thus, we can use the method `get_params()` to have the list\n",
    "of the parameters of the model which can set during the grid-\n",
    "search."
   ]
  },
  {
   "cell_type": "code",
   "execution_count": null,
   "metadata": {},
   "outputs": [],
   "source": [
    "print(\n",
    "    \"The hyper-parameters are for a logistic regression model are:\")\n",
    "for param_name in LogisticRegression().get_params().keys():\n",
    "    print(param_name)"
   ]
  },
  {
   "cell_type": "code",
   "execution_count": null,
   "metadata": {},
   "outputs": [],
   "source": [
    "print(\"The hyper-parameters are for the full-pipeline are:\")\n",
    "for param_name in model.get_params().keys():\n",
    "    print(param_name)"
   ]
  },
  {
   "cell_type": "markdown",
   "metadata": {},
   "source": [
    "The parameter `'logisticregression__C'` is the parameter for\n",
    "which we would like different values. Let see how to use the\n",
    "`GridSearchCV` estimator for doing such search."
   ]
  },
  {
   "cell_type": "code",
   "execution_count": null,
   "metadata": {},
   "outputs": [],
   "source": [
    "import time\n",
    "import numpy as np\n",
    "\n",
    "param_grid = {'logisticregression__C': (0.1, 1.0, 10.0)}\n",
    "model_grid_search = GridSearchCV(model, param_grid=param_grid,\n",
    "                                 n_jobs=4, cv=5)\n",
    "start = time.time()\n",
    "model_grid_search.fit(df_train, target_train)\n",
    "elapsed_time = time.time() - start\n",
    "print(\n",
    "    f\"The accuracy score using a {model_grid_search.__class__.__name__} is \"\n",
    "    f\"{model_grid_search.score(df_test, target_test):.2f} in \"\n",
    "    f\"{elapsed_time:.3f} seconds\")"
   ]
  },
  {
   "cell_type": "markdown",
   "metadata": {},
   "source": [
    "The `GridSearchCV` estimator takes a `param_grid` parameter which\n",
    "defines all possible parameters combination. Once the grid-search\n",
    "fitted, it can be used as any other predictor by calling `predict`\n",
    "and `predict_proba`. Internally, it will use the model with the\n",
    "best parameters found during `fit`. You can know about these\n",
    "parameters by looking at the `best_params_` attribute."
   ]
  },
  {
   "cell_type": "code",
   "execution_count": null,
   "metadata": {},
   "outputs": [],
   "source": [
    "print(\n",
    "    f\"The best set of parameters is: {model_grid_search.best_params_}\"\n",
    ")"
   ]
  },
  {
   "cell_type": "markdown",
   "metadata": {},
   "source": [
    "With the `GridSearchCV` estimator, the parameters need to be\n",
    "specified explicitely. Instead, one could randomly generate\n",
    "(following a specific distribution) the parameter candidates. The\n",
    "`RandomSearchCV` allows for such stochastic search. It is used\n",
    "similarly to the `GridSearchCV` but the sampling distributions need\n",
    "to be specified instead of the parameter values."
   ]
  },
  {
   "cell_type": "code",
   "execution_count": null,
   "metadata": {},
   "outputs": [],
   "source": [
    "from scipy.stats import uniform\n",
    "from sklearn.model_selection import RandomizedSearchCV\n",
    "\n",
    "param_distributions = {\n",
    "    'logisticregression__C': uniform(loc=50, scale=100)}\n",
    "model_grid_search = RandomizedSearchCV(\n",
    "    model, param_distributions=param_distributions, n_iter=3,\n",
    "    n_jobs=4, cv=5)\n",
    "model_grid_search.fit(df_train, target_train)\n",
    "print(\n",
    "    f\"The accuracy score using a {model_grid_search.__class__.__name__} is \"\n",
    "    f\"{model_grid_search.score(df_test, target_test):.2f}\")\n",
    "print(\n",
    "    f\"The best set of parameters is: {model_grid_search.best_params_}\"\n",
    ")"
   ]
  },
  {
   "cell_type": "markdown",
   "metadata": {},
   "source": [
    "## Notes on search efficiency\n",
    "\n",
    "Be aware that sometimes, scikit-learn provides some `EstimatorCV`\n",
    "classes which will perform internally the cross-validation in such\n",
    "way that it will more computationally efficient. We can give the\n",
    "example of the `LogisticRegressionCV` which can be used to find the\n",
    "best `C` in a more efficient way than what we previously did with\n",
    "the `GridSearchCV`."
   ]
  },
  {
   "cell_type": "code",
   "execution_count": null,
   "metadata": {},
   "outputs": [],
   "source": [
    "from sklearn.linear_model import LogisticRegressionCV\n",
    "\n",
    "# define the different Cs to try out\n",
    "param_grid = {\"C\": (0.1, 1.0, 10.0)}\n",
    "\n",
    "model = make_pipeline(\n",
    "    preprocessor,\n",
    "    LogisticRegressionCV(Cs=param_grid['C'], max_iter=1000,\n",
    "                         solver='lbfgs', n_jobs=4, cv=5))\n",
    "start = time.time()\n",
    "model.fit(df_train, target_train)\n",
    "elapsed_time = time.time() - start\n",
    "print(f\"Time elapsed to train LogisticRegressionCV: \"\n",
    "      f\"{elapsed_time:.3f} seconds\")"
   ]
  },
  {
   "cell_type": "markdown",
   "metadata": {},
   "source": [
    "The `fit` time for the `CV` version of `LogisticRegression` give\n",
    "a speed-up x2. This speed-up is provided by re-using the values of\n",
    "coefficients to warm- start the estimator for the different `C`\n",
    "values."
   ]
  },
  {
   "cell_type": "markdown",
   "metadata": {},
   "source": [
    "## Exercises:\n",
    "\n",
    "- Build a machine learning pipeline:     * preprocess the\n",
    "  categorical columns using an `OrdinalEncoder` and let       the\n",
    "  numerical columns as they are.     * use an\n",
    "  `HistGradientBoostingClassifier` as a predictive model.\n",
    "- Make an hyper-parameters search using `RandomizedSearchCV`\n",
    "  and tuning the parameters:     * `learning_rate` with values\n",
    "  ranging from 0.001 to 0.5. You can use       an exponential\n",
    "  distribution to sample the possible values.     *\n",
    "  `l2_regularization` with values ranging from 0 to 0.5. You can\n",
    "  use       a uniform distribution.     * `max_lead_nodes` with\n",
    "  values ranging from 5 to 30. The values should       be integer\n",
    "  following a uniform distribution.     * `min_samples_leaf` with\n",
    "  values ranging from 5 to 30. The values       should be integer\n",
    "  following a uniform distribution.\n",
    "\n",
    "In case you have issues of with unknown categories, try to\n",
    "precompute the list of possible categories ahead of time and pass\n",
    "it explicitly to the constructor of the encoder:\n",
    "\n",
    "```python categories = [data[column].unique()               for\n",
    "column in data[categorical_columns]]\n",
    "OrdinalEncoder(categories=categories) ```"
   ]
  },
  {
   "cell_type": "markdown",
   "metadata": {},
   "source": [
    "## Combining evaluation and hyper-parameters search\n",
    "\n",
    "Cross-validation was used for searching the best model\n",
    "parameters. We previously evaluate model performance through cross-\n",
    "validation as well. If we would like to combine both aspects, we\n",
    "need to perform a \"nested\" cross- validation. The \"outer\" cross-\n",
    "validation is applied to assess the model while the \"inner\" cross-\n",
    "validation set the hyper-parameters of the model on the data set\n",
    "provided by the \"outer\" cross-validation. In practice, it is\n",
    "equivalent of including, `GridSearchCV`, `RandomSearchCV`, or any\n",
    "`EstimatorCV` in a `cross_val_score` or `cross_validate` function\n",
    "call."
   ]
  },
  {
   "cell_type": "code",
   "execution_count": null,
   "metadata": {},
   "outputs": [],
   "source": [
    "from sklearn.model_selection import cross_val_score\n",
    "\n",
    "model = make_pipeline(\n",
    "    preprocessor,\n",
    "    LogisticRegressionCV(max_iter=1000, solver='lbfgs', cv=5))\n",
    "score = cross_val_score(model, data, target, n_jobs=4, cv=5)\n",
    "print(\n",
    "    f\"The accuracy score is: {score.mean():.2f} +- {score.std():.2f}\"\n",
    ")\n",
    "print(f\"The different scores obtained are: \\n{score}\")"
   ]
  },
  {
   "cell_type": "markdown",
   "metadata": {},
   "source": [
    "Be aware that such training might involve a variation of the\n",
    "hyper- parameters of the model. When analyzing such model, you\n",
    "should not only look at the overall model performance but look at\n",
    "the hyper-parameters variations as well."
   ]
  }
 ],
 "metadata": {
  "jupytext": {
   "formats": "python_scripts//py:percent,notebooks//ipynb",
   "main_language": "python"
  }
 },
 "nbformat": 4,
 "nbformat_minor": 2
}
