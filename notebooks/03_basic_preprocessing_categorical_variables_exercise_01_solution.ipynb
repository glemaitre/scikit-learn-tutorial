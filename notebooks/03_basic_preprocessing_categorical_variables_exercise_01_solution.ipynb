{
 "cells": [
  {
   "cell_type": "markdown",
   "metadata": {},
   "source": [
    "# Solution for Exercise 02\n",
    "\n",
    "The goal of this exercise is to evaluate the impact of using an\n",
    "arbitrary integer encoding for categorical variables along with a\n",
    "linear classification model such as Logistic Regression.\n",
    "\n",
    "To do so, let's try to use `OrdinalEncoder` to preprocess the\n",
    "categorical variables. This preprocessor is assembled in a pipeline\n",
    "with `LogisticRegression`. The performance of the pipeline can be\n",
    "evaluated as usual by cross-validation and then compared to the\n",
    "score obtained when using `OneHotEncoding` or to some other\n",
    "baseline score.\n",
    "\n",
    "Because `OrdinalEncoder` can raise errors if it sees an unknown\n",
    "category at prediction time, we need to pre-compute the list of all\n",
    "possible categories ahead of time:\n",
    "\n",
    "```python\n",
    "categories = [data[column].unique() for column in data[categorical_columns]]\n",
    "OrdinalEncoder(categories=categories)\n",
    "```"
   ]
  },
  {
   "cell_type": "code",
   "execution_count": null,
   "metadata": {},
   "outputs": [],
   "source": [
    "import pandas as pd\n",
    "\n",
    "df = pd.read_csv(\n",
    "    \"https://www.openml.org/data/get_csv/1595261/adult-census.csv\")\n",
    "\n",
    "# Or use the local copy: df = pd.read_csv('../datasets/adult-\n",
    "# census.csv')"
   ]
  },
  {
   "cell_type": "code",
   "execution_count": null,
   "metadata": {},
   "outputs": [],
   "source": [
    "target_name = \"class\"\n",
    "target = df[target_name].to_numpy()\n",
    "data = df.drop(columns=[target_name, \"fnlwgt\"])\n",
    "categorical_columns = [\n",
    "    c for c in data.columns if data[c].dtype.kind not in [\"i\", \"f\"]]\n",
    "data_categorical = data[categorical_columns]"
   ]
  },
  {
   "cell_type": "code",
   "execution_count": null,
   "metadata": {},
   "outputs": [],
   "source": [
    "categories = [\n",
    "    data[column].unique() for column in data[categorical_columns]]\n",
    "\n",
    "categories"
   ]
  },
  {
   "cell_type": "code",
   "execution_count": null,
   "metadata": {},
   "outputs": [],
   "source": [
    "from sklearn.model_selection import cross_val_score\n",
    "from sklearn.pipeline import make_pipeline\n",
    "from sklearn.preprocessing import OrdinalEncoder\n",
    "from sklearn.linear_model import LogisticRegression\n",
    "\n",
    "model = make_pipeline(\n",
    "    OrdinalEncoder(categories=categories),\n",
    "    LogisticRegression(solver='lbfgs', max_iter=1000))\n",
    "scores = cross_val_score(model, data_categorical, target)\n",
    "print(f\"The different scores obtained are: \\n{scores}\")"
   ]
  },
  {
   "cell_type": "code",
   "execution_count": null,
   "metadata": {},
   "outputs": [],
   "source": [
    "print(f\"The accuracy is: {scores.mean():.3f} +- {scores.std():.3f}\")"
   ]
  },
  {
   "cell_type": "markdown",
   "metadata": {},
   "source": [
    "Using an arbitrary mapping from string labels to integers as done\n",
    "here causes the linear model to make bad assumptions on the\n",
    "relative ordering of categories.\n",
    "\n",
    "This prevent the model to learning anything predictive enough and\n",
    "the cross-validated score is even lower that the baseline we\n",
    "obtained by ignoring the input data and just always predict the\n",
    "most frequent class:"
   ]
  },
  {
   "cell_type": "code",
   "execution_count": null,
   "metadata": {},
   "outputs": [],
   "source": [
    "from sklearn.dummy import DummyClassifier\n",
    "\n",
    "scores = cross_val_score(DummyClassifier(strategy=\"most_frequent\"),\n",
    "                         data_categorical, target)\n",
    "print(f\"The different scores obtained are: \\n{scores}\")\n",
    "print(f\"The accuracy is: {scores.mean():.3f} +- {scores.std():.3f}\")"
   ]
  },
  {
   "cell_type": "markdown",
   "metadata": {},
   "source": [
    "By comparison, a categorical encoding that does not assume any\n",
    "ordering in the categories can lead to a significantly higher\n",
    "score:"
   ]
  },
  {
   "cell_type": "code",
   "execution_count": null,
   "metadata": {},
   "outputs": [],
   "source": []
  }
 ],
 "metadata": {
  "jupytext": {
   "formats": "python_scripts//py:percent,notebooks//ipynb",
   "main_language": "python"
  }
 },
 "nbformat": 4,
 "nbformat_minor": 2
}
